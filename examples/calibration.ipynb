{
 "cells": [
  {
   "cell_type": "markdown",
   "metadata": {},
   "source": [
    "# Robot Calibration"
   ]
  },
  {
   "cell_type": "markdown",
   "metadata": {},
   "source": [
    "## Nominal Robot\n",
    "- A nominal robot model:\n",
    "    - Represents what the robot manufacturer intended as a kinematic model\n",
    "    - Is mathematically ideal"
   ]
  },
  {
   "cell_type": "code",
   "execution_count": 1,
   "metadata": {},
   "outputs": [],
   "source": [
    "from pybotics.predefined_models import UR10\n",
    "nominal_robot = UR10()"
   ]
  },
  {
   "cell_type": "code",
   "execution_count": 2,
   "metadata": {},
   "outputs": [
    {
     "data": {
      "text/html": [
       "<div>\n",
       "<style scoped>\n",
       "    .dataframe tbody tr th:only-of-type {\n",
       "        vertical-align: middle;\n",
       "    }\n",
       "\n",
       "    .dataframe tbody tr th {\n",
       "        vertical-align: top;\n",
       "    }\n",
       "\n",
       "    .dataframe thead th {\n",
       "        text-align: right;\n",
       "    }\n",
       "</style>\n",
       "<table border=\"1\" class=\"dataframe\">\n",
       "  <thead>\n",
       "    <tr style=\"text-align: right;\">\n",
       "      <th></th>\n",
       "      <th>alpha</th>\n",
       "      <th>a</th>\n",
       "      <th>theta</th>\n",
       "      <th>d</th>\n",
       "    </tr>\n",
       "  </thead>\n",
       "  <tbody>\n",
       "    <tr>\n",
       "      <th>link_0</th>\n",
       "      <td>0.000000</td>\n",
       "      <td>0.0</td>\n",
       "      <td>0.000000</td>\n",
       "      <td>118.0</td>\n",
       "    </tr>\n",
       "    <tr>\n",
       "      <th>link_1</th>\n",
       "      <td>1.570796</td>\n",
       "      <td>0.0</td>\n",
       "      <td>3.141593</td>\n",
       "      <td>0.0</td>\n",
       "    </tr>\n",
       "    <tr>\n",
       "      <th>link_2</th>\n",
       "      <td>0.000000</td>\n",
       "      <td>612.7</td>\n",
       "      <td>0.000000</td>\n",
       "      <td>0.0</td>\n",
       "    </tr>\n",
       "    <tr>\n",
       "      <th>link_3</th>\n",
       "      <td>0.000000</td>\n",
       "      <td>571.6</td>\n",
       "      <td>0.000000</td>\n",
       "      <td>163.9</td>\n",
       "    </tr>\n",
       "    <tr>\n",
       "      <th>link_4</th>\n",
       "      <td>-1.570796</td>\n",
       "      <td>0.0</td>\n",
       "      <td>0.000000</td>\n",
       "      <td>115.7</td>\n",
       "    </tr>\n",
       "    <tr>\n",
       "      <th>link_5</th>\n",
       "      <td>1.570796</td>\n",
       "      <td>0.0</td>\n",
       "      <td>3.141593</td>\n",
       "      <td>92.2</td>\n",
       "    </tr>\n",
       "  </tbody>\n",
       "</table>\n",
       "</div>"
      ],
      "text/plain": [
       "           alpha      a     theta      d\n",
       "link_0  0.000000    0.0  0.000000  118.0\n",
       "link_1  1.570796    0.0  3.141593    0.0\n",
       "link_2  0.000000  612.7  0.000000    0.0\n",
       "link_3  0.000000  571.6  0.000000  163.9\n",
       "link_4 -1.570796    0.0  0.000000  115.7\n",
       "link_5  1.570796    0.0  3.141593   92.2"
      ]
     },
     "execution_count": 2,
     "metadata": {},
     "output_type": "execute_result"
    }
   ],
   "source": [
    "import pandas as pd\n",
    "\n",
    "pd.DataFrame.from_dict(nominal_robot.kinematic_chain.to_dict(), orient='index')"
   ]
  },
  {
   "cell_type": "markdown",
   "metadata": {},
   "source": [
    "## *Real* Robots\n",
    "- *Real* robots do not conform perfectly to the nominal parameters\n",
    "- Small errors in the robot model can generate large errors in Cartesian position\n",
    "- Sources of errors include, but are not limited to:\n",
    "    - Kinematic errors\n",
    "        - Mechanical tolerances\n",
    "        - Angle offsets\n",
    "    - Non-kinematic errors\n",
    "        - Joint stiffness\n",
    "        - Gravity\n",
    "        - Temperature\n",
    "        - Friction"
   ]
  },
  {
   "cell_type": "code",
   "execution_count": 3,
   "metadata": {},
   "outputs": [
    {
     "data": {
      "text/html": [
       "<div>\n",
       "<style scoped>\n",
       "    .dataframe tbody tr th:only-of-type {\n",
       "        vertical-align: middle;\n",
       "    }\n",
       "\n",
       "    .dataframe tbody tr th {\n",
       "        vertical-align: top;\n",
       "    }\n",
       "\n",
       "    .dataframe thead th {\n",
       "        text-align: right;\n",
       "    }\n",
       "</style>\n",
       "<table border=\"1\" class=\"dataframe\">\n",
       "  <thead>\n",
       "    <tr style=\"text-align: right;\">\n",
       "      <th></th>\n",
       "      <th>alpha</th>\n",
       "      <th>a</th>\n",
       "      <th>theta</th>\n",
       "      <th>d</th>\n",
       "    </tr>\n",
       "  </thead>\n",
       "  <tbody>\n",
       "    <tr>\n",
       "      <th>link_0</th>\n",
       "      <td>0.000000</td>\n",
       "      <td>0.0</td>\n",
       "      <td>0.000313</td>\n",
       "      <td>118.0</td>\n",
       "    </tr>\n",
       "    <tr>\n",
       "      <th>link_1</th>\n",
       "      <td>1.570796</td>\n",
       "      <td>0.0</td>\n",
       "      <td>3.142999</td>\n",
       "      <td>0.0</td>\n",
       "    </tr>\n",
       "    <tr>\n",
       "      <th>link_2</th>\n",
       "      <td>0.000000</td>\n",
       "      <td>612.7</td>\n",
       "      <td>0.000475</td>\n",
       "      <td>0.0</td>\n",
       "    </tr>\n",
       "    <tr>\n",
       "      <th>link_3</th>\n",
       "      <td>0.000000</td>\n",
       "      <td>571.6</td>\n",
       "      <td>0.000185</td>\n",
       "      <td>163.9</td>\n",
       "    </tr>\n",
       "    <tr>\n",
       "      <th>link_4</th>\n",
       "      <td>-1.570796</td>\n",
       "      <td>0.0</td>\n",
       "      <td>0.001661</td>\n",
       "      <td>115.7</td>\n",
       "    </tr>\n",
       "    <tr>\n",
       "      <th>link_5</th>\n",
       "      <td>1.570796</td>\n",
       "      <td>0.0</td>\n",
       "      <td>3.142299</td>\n",
       "      <td>92.2</td>\n",
       "    </tr>\n",
       "  </tbody>\n",
       "</table>\n",
       "</div>"
      ],
      "text/plain": [
       "           alpha      a     theta      d\n",
       "link_0  0.000000    0.0  0.000313  118.0\n",
       "link_1  1.570796    0.0  3.142999    0.0\n",
       "link_2  0.000000  612.7  0.000475    0.0\n",
       "link_3  0.000000  571.6  0.000185  163.9\n",
       "link_4 -1.570796    0.0  0.001661  115.7\n",
       "link_5  1.570796    0.0  3.142299   92.2"
      ]
     },
     "execution_count": 3,
     "metadata": {},
     "output_type": "execute_result"
    }
   ],
   "source": [
    "import numpy as np\n",
    "from copy import deepcopy\n",
    "\n",
    "real_robot = deepcopy(nominal_robot)\n",
    "\n",
    "# let's pretend our real robot has small joint offsets\n",
    "# in real life, this would be a joint mastering issue (level-1 calibration)\n",
    "# https://en.wikipedia.org/wiki/Robot_calibration\n",
    "for link in real_robot.kinematic_chain.links:\n",
    "    link.theta += np.random.uniform(\n",
    "        low=np.deg2rad(-0.1),\n",
    "        high=np.deg2rad(0.1)\n",
    "    )\n",
    "\n",
    "pd.DataFrame.from_dict(real_robot.kinematic_chain.to_dict(), orient='index')"
   ]
  },
  {
   "cell_type": "markdown",
   "metadata": {},
   "source": [
    "## Get *Real* (aka Measured) Poses\n",
    "- In real life, these poses would be measured using metrology equipment (e.g., laser tracker, CMM)"
   ]
  },
  {
   "cell_type": "code",
   "execution_count": 4,
   "metadata": {},
   "outputs": [],
   "source": [
    "joints = []\n",
    "positions = []\n",
    "for i in range(1000):\n",
    "    q = real_robot.random_joints()\n",
    "    pose = real_robot.fk(q)\n",
    "    \n",
    "    joints.append(q)\n",
    "    positions.append(pose[:-1,-1])"
   ]
  },
  {
   "cell_type": "code",
   "execution_count": 5,
   "metadata": {
    "scrolled": true
   },
   "outputs": [
    {
     "data": {
      "text/html": [
       "<div>\n",
       "<style scoped>\n",
       "    .dataframe tbody tr th:only-of-type {\n",
       "        vertical-align: middle;\n",
       "    }\n",
       "\n",
       "    .dataframe tbody tr th {\n",
       "        vertical-align: top;\n",
       "    }\n",
       "\n",
       "    .dataframe thead th {\n",
       "        text-align: right;\n",
       "    }\n",
       "</style>\n",
       "<table border=\"1\" class=\"dataframe\">\n",
       "  <thead>\n",
       "    <tr style=\"text-align: right;\">\n",
       "      <th></th>\n",
       "      <th>0</th>\n",
       "      <th>1</th>\n",
       "      <th>2</th>\n",
       "      <th>3</th>\n",
       "      <th>4</th>\n",
       "      <th>5</th>\n",
       "    </tr>\n",
       "  </thead>\n",
       "  <tbody>\n",
       "    <tr>\n",
       "      <th>count</th>\n",
       "      <td>1000.000000</td>\n",
       "      <td>1000.000000</td>\n",
       "      <td>1000.000000</td>\n",
       "      <td>1000.000000</td>\n",
       "      <td>1000.000000</td>\n",
       "      <td>1000.000000</td>\n",
       "    </tr>\n",
       "    <tr>\n",
       "      <th>mean</th>\n",
       "      <td>-0.064980</td>\n",
       "      <td>0.034280</td>\n",
       "      <td>-0.120126</td>\n",
       "      <td>-0.142879</td>\n",
       "      <td>0.014504</td>\n",
       "      <td>-0.050190</td>\n",
       "    </tr>\n",
       "    <tr>\n",
       "      <th>std</th>\n",
       "      <td>1.844317</td>\n",
       "      <td>1.789883</td>\n",
       "      <td>1.815271</td>\n",
       "      <td>1.828131</td>\n",
       "      <td>1.785790</td>\n",
       "      <td>1.844212</td>\n",
       "    </tr>\n",
       "    <tr>\n",
       "      <th>min</th>\n",
       "      <td>-3.140303</td>\n",
       "      <td>-3.140339</td>\n",
       "      <td>-3.140525</td>\n",
       "      <td>-3.129589</td>\n",
       "      <td>-3.118671</td>\n",
       "      <td>-3.135353</td>\n",
       "    </tr>\n",
       "    <tr>\n",
       "      <th>25%</th>\n",
       "      <td>-1.720764</td>\n",
       "      <td>-1.488442</td>\n",
       "      <td>-1.674166</td>\n",
       "      <td>-1.748594</td>\n",
       "      <td>-1.534948</td>\n",
       "      <td>-1.748692</td>\n",
       "    </tr>\n",
       "    <tr>\n",
       "      <th>50%</th>\n",
       "      <td>-0.121651</td>\n",
       "      <td>-0.037111</td>\n",
       "      <td>-0.152524</td>\n",
       "      <td>-0.235282</td>\n",
       "      <td>0.075699</td>\n",
       "      <td>0.012557</td>\n",
       "    </tr>\n",
       "    <tr>\n",
       "      <th>75%</th>\n",
       "      <td>1.556584</td>\n",
       "      <td>1.531663</td>\n",
       "      <td>1.383941</td>\n",
       "      <td>1.394268</td>\n",
       "      <td>1.511555</td>\n",
       "      <td>1.426502</td>\n",
       "    </tr>\n",
       "    <tr>\n",
       "      <th>max</th>\n",
       "      <td>3.140558</td>\n",
       "      <td>3.131648</td>\n",
       "      <td>3.141371</td>\n",
       "      <td>3.119562</td>\n",
       "      <td>3.140345</td>\n",
       "      <td>3.131893</td>\n",
       "    </tr>\n",
       "  </tbody>\n",
       "</table>\n",
       "</div>"
      ],
      "text/plain": [
       "                 0            1            2            3            4  \\\n",
       "count  1000.000000  1000.000000  1000.000000  1000.000000  1000.000000   \n",
       "mean     -0.064980     0.034280    -0.120126    -0.142879     0.014504   \n",
       "std       1.844317     1.789883     1.815271     1.828131     1.785790   \n",
       "min      -3.140303    -3.140339    -3.140525    -3.129589    -3.118671   \n",
       "25%      -1.720764    -1.488442    -1.674166    -1.748594    -1.534948   \n",
       "50%      -0.121651    -0.037111    -0.152524    -0.235282     0.075699   \n",
       "75%       1.556584     1.531663     1.383941     1.394268     1.511555   \n",
       "max       3.140558     3.131648     3.141371     3.119562     3.140345   \n",
       "\n",
       "                 5  \n",
       "count  1000.000000  \n",
       "mean     -0.050190  \n",
       "std       1.844212  \n",
       "min      -3.135353  \n",
       "25%      -1.748692  \n",
       "50%       0.012557  \n",
       "75%       1.426502  \n",
       "max       3.131893  "
      ]
     },
     "execution_count": 5,
     "metadata": {},
     "output_type": "execute_result"
    }
   ],
   "source": [
    "pd.DataFrame(joints).describe()"
   ]
  },
  {
   "cell_type": "code",
   "execution_count": 6,
   "metadata": {
    "scrolled": true
   },
   "outputs": [
    {
     "data": {
      "text/html": [
       "<div>\n",
       "<style scoped>\n",
       "    .dataframe tbody tr th:only-of-type {\n",
       "        vertical-align: middle;\n",
       "    }\n",
       "\n",
       "    .dataframe tbody tr th {\n",
       "        vertical-align: top;\n",
       "    }\n",
       "\n",
       "    .dataframe thead th {\n",
       "        text-align: right;\n",
       "    }\n",
       "</style>\n",
       "<table border=\"1\" class=\"dataframe\">\n",
       "  <thead>\n",
       "    <tr style=\"text-align: right;\">\n",
       "      <th></th>\n",
       "      <th>x</th>\n",
       "      <th>y</th>\n",
       "      <th>z</th>\n",
       "    </tr>\n",
       "  </thead>\n",
       "  <tbody>\n",
       "    <tr>\n",
       "      <th>count</th>\n",
       "      <td>1000.000000</td>\n",
       "      <td>1000.000000</td>\n",
       "      <td>1000.000000</td>\n",
       "    </tr>\n",
       "    <tr>\n",
       "      <th>mean</th>\n",
       "      <td>-15.362218</td>\n",
       "      <td>8.181545</td>\n",
       "      <td>125.723484</td>\n",
       "    </tr>\n",
       "    <tr>\n",
       "      <th>std</th>\n",
       "      <td>435.131671</td>\n",
       "      <td>437.519623</td>\n",
       "      <td>613.161983</td>\n",
       "    </tr>\n",
       "    <tr>\n",
       "      <th>min</th>\n",
       "      <td>-1289.118777</td>\n",
       "      <td>-1285.213428</td>\n",
       "      <td>-1188.074555</td>\n",
       "    </tr>\n",
       "    <tr>\n",
       "      <th>25%</th>\n",
       "      <td>-265.693965</td>\n",
       "      <td>-240.039156</td>\n",
       "      <td>-321.779469</td>\n",
       "    </tr>\n",
       "    <tr>\n",
       "      <th>50%</th>\n",
       "      <td>-16.371598</td>\n",
       "      <td>31.714259</td>\n",
       "      <td>127.959163</td>\n",
       "    </tr>\n",
       "    <tr>\n",
       "      <th>75%</th>\n",
       "      <td>258.840290</td>\n",
       "      <td>256.194969</td>\n",
       "      <td>539.702787</td>\n",
       "    </tr>\n",
       "    <tr>\n",
       "      <th>max</th>\n",
       "      <td>1200.466842</td>\n",
       "      <td>1267.334343</td>\n",
       "      <td>1439.276664</td>\n",
       "    </tr>\n",
       "  </tbody>\n",
       "</table>\n",
       "</div>"
      ],
      "text/plain": [
       "                 x            y            z\n",
       "count  1000.000000  1000.000000  1000.000000\n",
       "mean    -15.362218     8.181545   125.723484\n",
       "std     435.131671   437.519623   613.161983\n",
       "min   -1289.118777 -1285.213428 -1188.074555\n",
       "25%    -265.693965  -240.039156  -321.779469\n",
       "50%     -16.371598    31.714259   127.959163\n",
       "75%     258.840290   256.194969   539.702787\n",
       "max    1200.466842  1267.334343  1439.276664"
      ]
     },
     "execution_count": 6,
     "metadata": {},
     "output_type": "execute_result"
    }
   ],
   "source": [
    "pd.DataFrame(positions, columns=['x','y','z']).describe()"
   ]
  },
  {
   "cell_type": "markdown",
   "metadata": {},
   "source": [
    "## Split Calibration and Validation Measures\n",
    "- A portion of the measured configurations and positions should be set aside for validation after calibration (i.e., optimization)\n",
    "    - This is to prevent/check the optimized model for overfitting"
   ]
  },
  {
   "cell_type": "code",
   "execution_count": 7,
   "metadata": {},
   "outputs": [],
   "source": [
    "from sklearn.model_selection import train_test_split\n",
    "split = train_test_split(joints, positions, test_size=0.3)\n",
    "\n",
    "train_joints = split[0]\n",
    "test_joints = split[1]\n",
    "\n",
    "train_positions = split[2]\n",
    "test_positions = split[3]"
   ]
  },
  {
   "cell_type": "markdown",
   "metadata": {},
   "source": [
    "## Get Nominal Position Errors\n",
    "- These nominal model is our starting point for calibration\n",
    "- The errors are in millimetres "
   ]
  },
  {
   "cell_type": "code",
   "execution_count": 8,
   "metadata": {},
   "outputs": [
    {
     "data": {
      "text/plain": [
       "count    300.000000\n",
       "mean       1.324560\n",
       "std        0.570159\n",
       "min        0.034375\n",
       "25%        0.877220\n",
       "50%        1.428855\n",
       "75%        1.799025\n",
       "max        2.325122\n",
       "dtype: float64"
      ]
     },
     "metadata": {},
     "output_type": "display_data"
    }
   ],
   "source": [
    "from pybotics.optimization import compute_absolute_errors\n",
    "\n",
    "nominal_errors = compute_absolute_errors(\n",
    "    qs=test_joints,\n",
    "    positions=test_positions,\n",
    "    robot=nominal_robot\n",
    ")\n",
    "\n",
    "display(pd.Series(nominal_errors).describe())"
   ]
  },
  {
   "cell_type": "markdown",
   "metadata": {},
   "source": [
    "## Calibration"
   ]
  },
  {
   "cell_type": "code",
   "execution_count": 9,
   "metadata": {},
   "outputs": [
    {
     "data": {
      "text/plain": [
       "array([[False, False,  True, False],\n",
       "       [False, False,  True, False],\n",
       "       [False, False,  True, False],\n",
       "       [False, False,  True, False],\n",
       "       [False, False,  True, False],\n",
       "       [False, False,  True, False]])"
      ]
     },
     "metadata": {},
     "output_type": "display_data"
    }
   ],
   "source": [
    "from pybotics.optimization import OptimizationHandler\n",
    "\n",
    "# init calibration handler\n",
    "handler = OptimizationHandler(nominal_robot)\n",
    "\n",
    "# set handler to solve for theta parameters\n",
    "kc_mask_matrix = np.zeros_like(nominal_robot.kinematic_chain.matrix, dtype=bool)\n",
    "kc_mask_matrix[:,2] = True\n",
    "display(kc_mask_matrix)\n",
    "\n",
    "handler.kinematic_chain_mask = kc_mask_matrix.ravel()"
   ]
  },
  {
   "cell_type": "code",
   "execution_count": 10,
   "metadata": {
    "scrolled": true
   },
   "outputs": [
    {
     "name": "stdout",
     "output_type": "stream",
     "text": [
      "   Iteration     Total nfev        Cost      Cost reduction    Step norm     Optimality   \n",
      "       0              1         7.1683e+02                                    8.28e+05    \n",
      "       1              7         3.7060e+02      3.46e+02       4.34e-03       5.76e+05    \n",
      "       2              8         2.2434e+02      1.46e+02       8.68e-03       2.49e+05    \n",
      "       3              9         4.4780e+01      1.80e+02       8.68e-03       1.05e+05    \n",
      "       4             11         1.9264e+01      2.55e+01       4.34e-03       7.03e+04    \n",
      "       5             13         2.6729e+00      1.66e+01       1.08e-03       2.27e+04    \n",
      "       6             15         3.2557e-01      2.35e+00       5.42e-04       9.01e+03    \n",
      "       7             17         1.1960e-02      3.14e-01       2.71e-04       1.66e+03    \n",
      "       8             20         1.2644e-03      1.07e-02       3.39e-05       5.40e+02    \n",
      "       9             22         3.1743e-05      1.23e-03       1.69e-05       9.31e+01    \n",
      "      10             25         2.7494e-07      3.15e-05       2.12e-06       6.02e+00    \n",
      "      11             28         1.1272e-08      2.64e-07       2.65e-07       2.35e+00    \n",
      "      12             31         1.1272e-08      0.00e+00       0.00e+00       2.35e+00    \n",
      "`xtol` termination condition is satisfied.\n",
      "Function evaluations 31, initial cost 7.1683e+02, final cost 1.1272e-08, first-order optimality 2.35e+00.\n"
     ]
    }
   ],
   "source": [
    "from scipy.optimize import least_squares\n",
    "from pybotics.optimization import optimize_accuracy\n",
    "\n",
    "# run optimization\n",
    "result = least_squares(\n",
    "    fun=optimize_accuracy,\n",
    "    x0=handler.generate_optimization_vector(),\n",
    "    args=(handler, train_joints, train_positions),\n",
    "    verbose=2\n",
    ")  # type: scipy.optimize.OptimizeResult"
   ]
  },
  {
   "cell_type": "markdown",
   "metadata": {},
   "source": [
    "## Results\n",
    "- A calibrated robot model is never perfect in real life\n",
    "    - The goal is often to reduce the max error under a desired threshold"
   ]
  },
  {
   "cell_type": "code",
   "execution_count": 11,
   "metadata": {
    "scrolled": true
   },
   "outputs": [
    {
     "data": {
      "text/plain": [
       "count    3.000000e+02\n",
       "mean     8.696909e-06\n",
       "std      3.738566e-06\n",
       "min      5.324238e-07\n",
       "25%      5.779092e-06\n",
       "50%      9.775137e-06\n",
       "75%      1.196200e-05\n",
       "max      1.407084e-05\n",
       "dtype: float64"
      ]
     },
     "metadata": {},
     "output_type": "display_data"
    }
   ],
   "source": [
    "calibrated_robot = handler.robot\n",
    "calibrated_errors = compute_absolute_errors(\n",
    "    qs=test_joints,\n",
    "    positions=test_positions,\n",
    "    robot=calibrated_robot\n",
    ")\n",
    "\n",
    "display(pd.Series(calibrated_errors).describe())"
   ]
  },
  {
   "cell_type": "code",
   "execution_count": 12,
   "metadata": {
    "scrolled": true
   },
   "outputs": [
    {
     "data": {
      "image/png": "[encoded data removed]",
      "text/plain": [
       "<matplotlib.figure.Figure at 0x19303772d68>"
      ]
     },
     "metadata": {},
     "output_type": "display_data"
    }
   ],
   "source": [
    "import matplotlib.pyplot as plt\n",
    "%matplotlib inline\n",
    "\n",
    "fig, axes = plt.subplots(2,1)\n",
    "\n",
    "axes[0].hist(\n",
    "    x=nominal_errors,\n",
    "    color='C0',\n",
    "    bins=100\n",
    ");\n",
    "axes[0].set_ylabel('Frequency');\n",
    "\n",
    "axes[1].hist(\n",
    "    x=calibrated_errors,\n",
    "    color='C1',\n",
    "    bins=100\n",
    ");\n",
    "axes[1].set_xlabel('Absolute Error [mm]');\n",
    "axes[1].set_ylabel('Frequency');"
   ]
  }
 ],
 "metadata": {
  "kernelspec": {
   "display_name": "Python 3",
   "language": "python",
   "name": "python3"
  },
  "language_info": {
   "codemirror_mode": {
    "name": "ipython",
    "version": 3
   },
   "file_extension": ".py",
   "mimetype": "text/x-python",
   "name": "python",
   "nbconvert_exporter": "python",
   "pygments_lexer": "ipython3",
   "version": "3.6.4"
  }
 },
 "nbformat": 4,
 "nbformat_minor": 1
}
